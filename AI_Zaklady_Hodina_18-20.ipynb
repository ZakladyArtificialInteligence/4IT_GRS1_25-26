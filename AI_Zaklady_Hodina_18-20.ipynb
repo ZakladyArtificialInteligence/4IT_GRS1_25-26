{
 "cells": [
  {
   "cell_type": "markdown",
   "id": "7e67a6c6",
   "metadata": {},
   "source": [
    "# Hodiny 18–20 — Projekt: Závěrečný mini‑projekt\n",
    "\n",
    "Tento tříhodinový blok je věnován projektu: žáci použijí nástroje a algoritmy, které se naučili (hledání cest, heuristiky, backtracking, constraint solving), aby vytvořili vlastní řešení zvoleného problému. Níže jsou tři doporučené projektové směry a šablony, které mohou studenti použít jako výchozí bod."
   ]
  },
  {
   "cell_type": "markdown",
   "id": "bff16847",
   "metadata": {},
   "source": [
    "## Co je cílem?\n",
    "\n",
    "- Vytvořit funkční program, který řeší vybraný problém (N‑Queens, Sudoku, Hanojská věž, nebo cesta v bludišti).\n",
    "- Implementovat a zhodnotit minimálně dva přístupy (např. backtracking vs. constraint solver, nebo BFS vs. A*).\n",
    "- Připravit krátkou prezentaci (5–10 minut): popis problému, ukázka kódu, metriky (délka řešení / čas / počet rozšířených stavů) a vysvětlení volby algoritmu.\n",
    "\n",
    "### Doporučené projekty (šablony):\n",
    "\n",
    "1) N‑Queens (řešení pomocí backtrackingu a pomocí `ortools` nebo `python-constraint`).\n",
    "\n",
    "2) Sudoku (backtracking vs. CP‑solver — `ortools.sat.python.cp_model`).\n",
    "\n",
    "3) Hanojská věž (rekurzivní řešení + stavový prostor, experiment s vizualizací kroků).\n",
    "\n",
    "4) Cesta v bludišti (rozšíření sešitu z hodin 16–17): implementujte generátor, různá hledání (BFS, A*, Dijkstra) a porovnejte metriky.\n",
    "\n"
   ]
  },
  {
   "cell_type": "code",
   "execution_count": 3,
   "id": "41f8d447",
   "metadata": {},
   "outputs": [
    {
     "name": "stdout",
     "output_type": "stream",
     "text": [
      "Solutions for 9-queens: 2\n",
      "N-Queens test passed\n"
     ]
    }
   ],
   "source": [
    "# N-Queens template (backtracking) — students can use this as starting point\n",
    "\n",
    "def solve_n_queens(n):\n",
    "    solutions = []\n",
    "    cols = set()\n",
    "    diag1 = set()\n",
    "    diag2 = set()\n",
    "    board = [-1]*n\n",
    "\n",
    "    def place(row):\n",
    "        if row == n:\n",
    "            solutions.append(board.copy())\n",
    "            return\n",
    "        for c in range(n):\n",
    "            if c in cols or (row-c) in diag1 or (row+c) in diag2:\n",
    "                continue\n",
    "            cols.add(c); diag1.add(row-c); diag2.add(row+c)\n",
    "            board[row] = c\n",
    "            place(row+1)\n",
    "            cols.remove(c); diag1.remove(row-c); diag2.remove(row+c)\n",
    "            board[row] = -1\n",
    "\n",
    "    place(0)\n",
    "    return solutions\n",
    "\n",
    "# quick test\n",
    "sol4 = solve_n_queens(4)\n",
    "print('Solutions for 9-queens:', len(sol4))\n",
    "assert len(sol4) == 2\n",
    "print('N-Queens test passed')"
   ]
  },
  {
   "cell_type": "code",
   "execution_count": 10,
   "id": "f4ddbee1",
   "metadata": {},
   "outputs": [
    {
     "name": "stdout",
     "output_type": "stream",
     "text": [
      "Sudoku 9x9 solved sample:\n",
      "[5, 3, 4, 6, 7, 8, 9, 1, 2]\n",
      "[6, 7, 2, 1, 9, 5, 3, 4, 8]\n",
      "[1, 9, 8, 3, 4, 2, 5, 6, 7]\n",
      "[8, 5, 9, 7, 6, 1, 4, 2, 3]\n",
      "[4, 2, 6, 8, 5, 3, 7, 9, 1]\n",
      "[7, 1, 3, 9, 2, 4, 8, 5, 6]\n",
      "[9, 6, 1, 5, 3, 7, 2, 8, 4]\n",
      "[2, 8, 7, 4, 1, 9, 6, 3, 5]\n",
      "[3, 4, 5, 2, 8, 6, 1, 7, 9]\n"
     ]
    }
   ],
   "source": [
    "# Sudoku using OR-Tools CP-SAT (simple 4x4 example for speed in classroom)\n",
    "try:\n",
    "    from ortools.sat.python import cp_model\n",
    "except Exception as e:\n",
    "    cp_model = None\n",
    "    print('ortools not installed; students can install with pip install ortools')\n",
    "\n",
    "\n",
    "def solve_sudoku(grid):\n",
    "    if not cp_model:\n",
    "        return None\n",
    "    n = len(grid)\n",
    "    model = cp_model.CpModel()\n",
    "    cells = [[model.NewIntVar(1, n, f'x{i}{j}') for j in range(n)] for i in range(n)]\n",
    "    for i in range(n):\n",
    "        model.AddAllDifferent(cells[i])\n",
    "    for j in range(n):\n",
    "        model.AddAllDifferent([cells[i][j] for i in range(n)])\n",
    "    # Add block constraints for sqrt(n) x sqrt(n) blocks if n is a perfect square\n",
    "    import math\n",
    "    sqrt_n = int(math.sqrt(n))\n",
    "    if sqrt_n * sqrt_n == n:\n",
    "        for bi in range(sqrt_n):\n",
    "            for bj in range(sqrt_n):\n",
    "                block = [cells[bi * sqrt_n + ii][bj * sqrt_n + jj] for ii in range(sqrt_n) for jj in range(sqrt_n)]\n",
    "                model.AddAllDifferent(block)\n",
    "    # fill known\n",
    "    for i in range(n):\n",
    "        for j in range(n):\n",
    "            if grid[i][j] != 0:\n",
    "                model.Add(cells[i][j] == grid[i][j])\n",
    "    solver = cp_model.CpSolver()\n",
    "    status = solver.Solve(model)\n",
    "    if status in (cp_model.OPTIMAL, cp_model.FEASIBLE):\n",
    "        return [[int(solver.Value(cells[i][j])) for j in range(n)] for i in range(n)]\n",
    "    return None\n",
    "\n",
    "# tiny test (4x4)\n",
    "example = [[1,0,0,0],[0,0,2,0],[0,3,0,0],[0,0,0,4]]\n",
    "# Example 9x9 Sudoku puzzle (0 means empty)\n",
    "example_9x9 = [\n",
    "    [5, 3, 0, 0, 7, 0, 0, 0, 0],\n",
    "    [6, 0, 0, 1, 9, 5, 0, 0, 0],\n",
    "    [0, 9, 8, 0, 0, 0, 0, 6, 0],\n",
    "    [8, 0, 0, 0, 6, 0, 0, 0, 3],\n",
    "    [4, 0, 0, 8, 0, 3, 0, 0, 1],\n",
    "    [7, 0, 0, 0, 2, 0, 0, 0, 6],\n",
    "    [0, 6, 0, 0, 0, 0, 2, 8, 0],\n",
    "    [0, 0, 0, 4, 1, 9, 0, 0, 5],\n",
    "    [0, 0, 0, 0, 8, 0, 0, 7, 9]\n",
    "]\n",
    "res = solve_sudoku(example_9x9)\n",
    "if res:\n",
    "    print('Sudoku 9x9 solved sample:')\n",
    "    for row in res:\n",
    "        print(row)\n",
    "else:\n",
    "    print('Sudoku solver not available or no solution')"
   ]
  },
  {
   "cell_type": "markdown",
   "id": "a783fd3e",
   "metadata": {},
   "source": [
    "## Prezentace a hodnocení\n",
    "\n",
    "Každý tým/student připraví:\n",
    "- 5–10 minutovou prezentaci: problém, použité algoritmy, ukázka kódu (nejdůležitější funkce), výsledky (metriky: čas, délka, rozšířené uzly).\n",
    "- Krátké demo (spustitelný skript nebo notebook cell) ukazující řešení.\n",
    "\n",
    "Hodnocení (doporučení):\n",
    "- Funkčnost (40 %) — řešení pracuje pro zadané případy.\n",
    "- Čistota kódu a modularita (20 %).\n",
    "- Porovnání přístupů a měření výkonu (20 %).\n",
    "- Prezentace a vysvětlení rozhodnutí (20 %).\n",
    "\n",
    "### Doporučené výstupy\n",
    "- `solution.py` nebo `notebook` s hlavním runnerem.\n",
    "- Stručný `README.md` s instrukcemi jak spustit.\n",
    "- Soubor `results.csv` s metrikami z benchmarků (volitelné)."
   ]
  }
 ],
 "metadata": {
  "kernelspec": {
   "display_name": "base",
   "language": "python",
   "name": "python3"
  },
  "language_info": {
   "codemirror_mode": {
    "name": "ipython",
    "version": 3
   },
   "file_extension": ".py",
   "mimetype": "text/x-python",
   "name": "python",
   "nbconvert_exporter": "python",
   "pygments_lexer": "ipython3",
   "version": "3.13.5"
  }
 },
 "nbformat": 4,
 "nbformat_minor": 5
}
