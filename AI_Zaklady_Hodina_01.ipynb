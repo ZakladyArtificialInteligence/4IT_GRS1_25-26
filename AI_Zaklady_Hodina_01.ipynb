{
  "cells": [
    {
      "cell_type": "markdown",
      "metadata": {
        "id": "title"
      },
      "source": [
        "# Hodina 1: Co je umělá inteligence?\n",
        "\n",
        "## Obsah hodiny\n",
        "- Definice umělé inteligence (AI)\n",
        "- Základní pojmy a typy AI\n",
        "- Strojové učení, hluboké učení a neuronové sítě\n",
        "- Praktické příklady a význam AI v současnosti\n",
        "- Úvod do práce s Pythonem v Google Colab\n",
        "\n",
        "---"
      ]
    },
    {
      "cell_type": "markdown",
      "metadata": {
        "id": "intro"
      },
      "source": [
        "## 1. Co je umělá inteligence?\n",
        "\n",
        "**Umělá inteligence (AI)** je obor informatiky, který se zabývá vytvářením systémů schopných vykonávat úkoly, které obvykle vyžadují lidskou inteligenci.\n",
        "\n",
        "### Klíčové vlastnosti AI:\n",
        "- **Učení** - schopnost zlepšovat se na základě zkušeností\n",
        "- **Uvažování** - schopnost řešit problémy logicky\n",
        "- **Vnímání** - schopnost interpretovat data ze senzorů\n",
        "- **Přirozený jazyk** - schopnost rozumět a generovat lidský jazyk\n",
        "- **Plánování** - schopnost stanovit cíle a najít cestu k jejich dosažení\n",
        "\n",
        "### Různé pohledy na AI:\n",
        "\n",
        "1. **Slabá (úzká) AI** - specializovaná na konkrétní úkol (např. rozpoznávání obličejů, hraní šachů).\n",
        "2. **Silná (obecná) AI** - systém, který by byl schopen řešit jakýkoliv intelektuální úkol stejně dobře jako člověk. Tato forma AI zatím neexistuje."
      ]
    },
    {
      "cell_type": "markdown",
      "metadata": {
        "id": "concepts"
      },
      "source": [
        "## 2. Základní pojmy\n",
        "\n",
        "AI je široký obor, ale často se setkáte s několika klíčovými pojmy:\n",
        "\n",
        "### Strojové učení (Machine Learning - ML)\n",
        "Podoblast AI, která dává počítačům schopnost **učit se ze zkušeností** bez explicitního programování. Místo toho, abychom psali pravidla, jim dáme data, ze kterých si pravidla odvodí sami.\n",
        "\n",
        "### Hluboké učení (Deep Learning - DL)\n",
        "Pokročilá forma strojového učení, která používá **neuronové sítě** s mnoha vrstvami. Je obzvláště účinná pro zpracování velkého množství dat a řešení složitých úloh, jako je rozpoznávání obrazu nebo řeči.\n",
        "\n",
        "### Neuronové sítě (Neural Networks - NN)\n",
        "Jsou inspirované lidským mozkem. Skládají se z vrstev umělých **neuronů**, které jsou vzájemně propojené. Každý neuron zpracovává data a předává je dál do další vrstvy. Učením se upravují váhy těchto spojení.\n",
        "\n",
        "### Data Science (DS)\n",
        "Vědní obor, který kombinuje statistiku, informatiku a oborové znalosti pro **analýzu dat** a získávání cenných informací. Strojové učení je důležitou součástí datové vědy.\n",
        "\n",
        "---"
      ]
    },
    {
      "cell_type": "markdown",
      "metadata": {
        "id": "python_intro"
      },
      "source": [
        "## 3. Úvod do Pythonu a Google Colab\n",
        "\n",
        "Pro naši práci budeme používat programovací jazyk **Python** a online prostředí **Google Colab** (nebo Jupyter Notebooks). Umožňuje nám to spouštět kód a vkládat text v jednom souboru.\n",
        "\n",
        "**Základní práce:**\n",
        "- **Textová buňka (Markdown)**: Slouží pro text, nadpisy a vysvětlení (jako tato buňka).\n",
        "- **Kódová buňka**: Obsahuje kód v Pythonu. Spustíte ji kliknutím na tlačítko **Play** vlevo od buňky nebo stiskem **Shift + Enter**.\n",
        "\n",
        "Zkuste si spustit následující kódovou buňku:"
      ]
    },
    {
      "cell_type": "code",
      "execution_count": 1,
      "metadata": {
        "id": "hello_world"
      },
      "outputs": [
        {
          "name": "stdout",
          "output_type": "stream",
          "text": [
            "Ahoj, světe! Vítejte v kurzu AI.\n"
          ]
        }
      ],
      "source": [
        "# Toto je první kódová buňka\n",
        "print(\"Ahoj, světe! Vítejte v kurzu AI.\")"
      ]
    },
    {
      "cell_type": "markdown",
      "metadata": {
        "id": "hello_world_ai"
      },
      "source": [
        "## 4. Hello World v AI: Rozhodovací strom\n",
        "\n",
        "Místo klasického „Hello World!“ si ukážeme, jak funguje jednoduchý **rozhodovací strom**. Je to jeden z nejzákladnějších AI algoritmů, který na základě datového vstupu provádí rozhodnutí."
      ]
    },
    {
      "cell_type": "code",
      "execution_count": 2,
      "metadata": {
        "id": "decision_tree"
      },
      "outputs": [
        {
          "name": "stdout",
          "output_type": "stream",
          "text": [
            "Při počasí slunečno a teplotě 25°C: Ano, je ideální počasí!\n",
            "Při počasí déšť a teplotě 15°C: Ne, prší.\n",
            "Při počasí slunečno a teplotě 15°C: Ne, je chladno.\n"
          ]
        }
      ],
      "source": [
        "# Jednoduchý rozhodovací strom pro rozhodnutí, zda jít ven\n",
        "\n",
        "def rozhodni_jit_ven(pocasi, teplota):\n",
        "    \"\"\"\n",
        "    Funkce na základě počasí a teploty rozhodne, zda jít ven.\n",
        "    \"\"\"\n",
        "    if pocasi == \"slunecno\":\n",
        "        if teplota >= 20:\n",
        "            return \"Ano, je ideální počasí!\"\n",
        "        else:\n",
        "            return \"Ne, je chladno.\"\n",
        "    elif pocasi == \"dest\":\n",
        "        return \"Ne, prší.\"\n",
        "    else:\n",
        "        return \"Nevím, neznámé počasí.\"\n",
        "\n",
        "# Testovací vstupy\n",
        "print(f\"Při počasí slunečno a teplotě 25°C: {rozhodni_jit_ven('slunecno', 25)}\")\n",
        "print(f\"Při počasí déšť a teplotě 15°C: {rozhodni_jit_ven('dest', 15)}\")\n",
        "print(f\"Při počasí slunečno a teplotě 15°C: {rozhodni_jit_ven('slunecno', 15)}\")"
      ]
    },
    {
      "cell_type": "markdown",
      "metadata": {
        "id": "significance"
      },
      "source": [
        "## 5. Význam a příklady AI v praxi\n",
        "\n",
        "Proč je AI tak důležitá pro dnešní svět? Protože má schopnost **transformovat** téměř každý obor, od medicíny po umění. Díky AI můžeme analyzovat obrovské objemy dat, automatizovat opakující se úkoly a vytvářet inteligentní systémy, které se neustále učí a zlepšují.\n",
        "\n",
        "### Kde se setkáváme s AI každý den:\n",
        "\n",
        "1. **Chytré telefony**\n",
        "   - Hlasový asistent (Siri, Google Assistant)\n",
        "   - Rozpoznávání obličeje pro odemykání telefonu\n",
        "   - Prediktivní psaní a oprava textu\n",
        "\n",
        "2. **Internet**\n",
        "   - Vyhledávače (Google)\n",
        "   - Doporučovací systémy (YouTube, Netflix, Spotify)\n",
        "   - Sociální sítě (filtrování spamu a nevhodného obsahu)\n",
        "\n",
        "3. **Doprava**\n",
        "   - GPS navigace s optimalizací trasy v reálném čase\n",
        "   - Autonomní vozidla\n",
        "\n",
        "4. **Zdravotnictví**\n",
        "   - Analýza rentgenových snímků a diagnostika nemocí\n",
        "   - Vývoj nových léků a terapií\n",
        "\n",
        "---"
      ]
    },
    {
      "cell_type": "markdown",
      "metadata": {
        "id": "exercises"
      },
      "source": [
        "## 6. Cvičení a úkoly\n",
        "\n",
        "### Úkol 1: Porozumění AI\n",
        "Odpovězte na následující otázky:\n",
        "1. Jaký je rozdíl mezi **slabou** a **silnou** AI?\n",
        "2. Uveďte 3 příklady AI, se kterými jste se dnes setkali.\n",
        "3. Co je to **strojové učení** a jak se liší od klasického programování?\n",
        "\n",
        "### Úkol 2: Praktické cvičení"
      ]
    },
    {
      "cell_type": "code",
      "execution_count": 5,
      "metadata": {
        "id": "exercise1"
      },
      "outputs": [
        {
          "name": "stdout",
          "output_type": "stream",
          "text": [
            "Test 1: Číslo 0\n",
            "Test 2: Číslo 1\n",
            "Test 3: Neznámé číslo\n"
          ]
        }
      ],
      "source": [
        "import numpy as np\n",
        "# Úkol: Vytvořte jednoduchou AI pro rozpoznávání čísel\n",
        "\n",
        "def rozpoznej_cislo(matice):\n",
        "\t\"\"\"\n",
        "\tFunkce rozpozná číslo 0 nebo 1 podle vzoru v matici 3x3\n",
        "\t\"\"\"\n",
        "\t# Vzor pro číslo 0\n",
        "\tnula = np.array([\n",
        "\t\t[1, 1, 1],\n",
        "\t\t[1, 0, 1],\n",
        "\t\t[1, 1, 1]\n",
        "\t])\n",
        "\t\n",
        "\t# Vzor pro číslo 1\n",
        "\tjedna = np.array([\n",
        "\t\t[0, 1, 0],\n",
        "\t\t[1, 1, 0],\n",
        "\t\t[0, 1, 0]\n",
        "\t])\n",
        "\t\n",
        "\t# Doplňte kód pro porovnání matice se vzory\n",
        "\t# Tip: použijte np.array_equal()\n",
        "\t\n",
        "\tif np.array_equal(matice, nula):\n",
        "\t\treturn \"Číslo 0\"\n",
        "\telif np.array_equal(matice, jedna):\n",
        "\t\treturn \"Číslo 1\"\n",
        "\telse:\n",
        "\t\treturn \"Neznámé číslo\"\n",
        "\n",
        "# Test funkce\n",
        "test_0 = np.array([[1, 1, 1], [1, 0, 1], [1, 1, 1]])\n",
        "test_1 = np.array([[0, 1, 0], [1, 1, 0], [0, 1, 0]])\n",
        "test_unknown = np.array([[1, 1, 0], [0, 1, 0], [0, 1, 1]])\n",
        "\n",
        "print(f\"Test 1: {rozpoznej_cislo(test_0)}\")\n",
        "print(f\"Test 2: {rozpoznej_cislo(test_1)}\")\n",
        "print(f\"Test 3: {rozpoznej_cislo(test_unknown)}\")"
      ]
    },
    {
      "cell_type": "markdown",
      "metadata": {
        "id": "summary"
      },
      "source": [
        "## 7. Shrnutí\n",
        "\n",
        "### Co jsme se naučili:\n",
        "- ✅ Definici umělé inteligence\n",
        "- ✅ Různé typy AI (slabá vs. silná)\n",
        "- ✅ Základní pojmy jako strojové učení, hluboké učení a neuronové sítě\n",
        "- ✅ Praktické příklady AI v každodenním životě\n",
        "- ✅ Jak pracovat s Google Colab a spouštět kód\n",
        "\n",
        "### Klíčové pojmy:\n",
        "- **Umělá inteligence (AI)** - systémy napodobující lidskou inteligenci\n",
        "- **Strojové učení** - schopnost učit se ze zkušeností\n",
        "- **Algoritmus** - postupný návod pro řešení problému\n",
        "- **Data** - informace, ze kterých se AI učí\n",
        "- **Model** - naučená reprezentace vzorů v datech\n",
        "\n",
        "### Příště:\n",
        "V další hodině se podíváme na historii AI a klíčové milníky jejího vývoje, včetně slavného Turingova testu."
      ]
    },
    {
      "cell_type": "markdown",
      "metadata": {
        "id": "homework"
      },
      "source": [
        "## 8. Domácí úkol\n",
        "\n",
        "1. **Průzkum**: Najděte 5 příkladů AI ve vašem okolí a popište, jak fungují.\n",
        "\n",
        "2. **Kreativní úkol**: Navrhněte vlastní jednoduchou AI aplikaci, která by vám pomohla v každodenním životě.\n",
        "\n",
        "3. **Programování**: Rozšiřte rozhodovací strom pro rozhodování o dalších vstupech (např. zda máte deštník).\n",
        "\n",
        "4. **Zamyšlení**: Napište krátkou úvahu (5 vět) o tom, jak AI ovlivňuje váš život.\n",
        "\n",
        "---\n",
        "\n",
        "**Poznámka**: Všechny úkoly odevzdejte před další hodinou. V případě dotazů se nebojte zeptat!"
      ]
    }
  ],
  "metadata": {
    "kernelspec": {
      "display_name": "base",
      "language": "python",
      "name": "python3"
    },
    "language_info": {
      "codemirror_mode": {
        "name": "ipython",
        "version": 3
      },
      "file_extension": ".py",
      "mimetype": "text/x-python",
      "name": "python",
      "nbconvert_exporter": "python",
      "pygments_lexer": "ipython3",
      "version": "3.13.5"
    }
  },
  "nbformat": 4,
  "nbformat_minor": 0
}
